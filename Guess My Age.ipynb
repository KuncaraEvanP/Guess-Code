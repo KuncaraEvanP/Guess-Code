{
 "cells": [
  {
   "cell_type": "code",
   "execution_count": 1,
   "id": "9995ee6e",
   "metadata": {},
   "outputs": [
    {
     "name": "stdout",
     "output_type": "stream",
     "text": [
      "Guess: 21\n",
      "Try again\n",
      "Guess: 23\n",
      "Try again\n",
      "Guess: 22\n",
      "You won!!\n"
     ]
    }
   ],
   "source": [
    "secret_age=22\n",
    "guess_count=0\n",
    "guess_limit=3\n",
    "while guess_count < guess_limit:\n",
    "    guess=int(input('Guess: '))\n",
    "    guess_count += 1\n",
    "    if guess == secret_age:\n",
    "        print('You won!!')\n",
    "        break\n",
    "    else:\n",
    "        print('Try again')\n",
    "else:\n",
    "    print('You Failed!!')"
   ]
  }
 ],
 "metadata": {
  "kernelspec": {
   "display_name": "Python 3 (ipykernel)",
   "language": "python",
   "name": "python3"
  },
  "language_info": {
   "codemirror_mode": {
    "name": "ipython",
    "version": 3
   },
   "file_extension": ".py",
   "mimetype": "text/x-python",
   "name": "python",
   "nbconvert_exporter": "python",
   "pygments_lexer": "ipython3",
   "version": "3.9.12"
  }
 },
 "nbformat": 4,
 "nbformat_minor": 5
}
